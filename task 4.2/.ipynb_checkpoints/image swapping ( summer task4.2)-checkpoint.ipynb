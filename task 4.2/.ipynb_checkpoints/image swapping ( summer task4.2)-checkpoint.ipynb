{
 "cells": [
  {
   "cell_type": "code",
   "execution_count": 29,
   "id": "9c21740a",
   "metadata": {},
   "outputs": [],
   "source": [
    "import cv2\n",
    "import numpy"
   ]
  },
  {
   "cell_type": "code",
   "execution_count": 30,
   "id": "a89349dd",
   "metadata": {},
   "outputs": [],
   "source": [
    "photo1= cv2.imread(\"oggy.png\")\n",
    "photo1= cv2.resize(photo1 , (720, 720))\n",
    "\n",
    "photo2= cv2.imread(\"jack.png\")\n",
    "photo2= cv2.resize(photo2 , (720, 720))"
   ]
  },
  {
   "cell_type": "code",
   "execution_count": 31,
   "id": "f1d8aa55",
   "metadata": {},
   "outputs": [],
   "source": [
    "cv2.imshow('hi' , photo1)\n",
    "cv2.imshow('hello' , photo2)\n",
    "cv2.waitKey()\n",
    "cv2.destroyAllWindows()"
   ]
  },
  {
   "cell_type": "code",
   "execution_count": 32,
   "id": "cf590fb5",
   "metadata": {},
   "outputs": [
    {
     "data": {
      "text/plain": [
       "(720, 720, 3)"
      ]
     },
     "execution_count": 32,
     "metadata": {},
     "output_type": "execute_result"
    }
   ],
   "source": [
    "photo2.shape"
   ]
  },
  {
   "cell_type": "code",
   "execution_count": 33,
   "id": "82fae4cd",
   "metadata": {},
   "outputs": [
    {
     "data": {
      "text/plain": [
       "(720, 720, 3)"
      ]
     },
     "execution_count": 33,
     "metadata": {},
     "output_type": "execute_result"
    }
   ],
   "source": [
    "photo1.shape"
   ]
  },
  {
   "cell_type": "code",
   "execution_count": 34,
   "id": "1c3fda3e",
   "metadata": {},
   "outputs": [],
   "source": [
    "#cphoto1 = photo1[100: 450, 200:400]"
   ]
  },
  {
   "cell_type": "code",
   "execution_count": 35,
   "id": "06d21bb2",
   "metadata": {},
   "outputs": [],
   "source": [
    "cphoto1 = photo1[100:450, 200:400]\n",
    "cphoto2 = photo2[100:450, 200:400]"
   ]
  },
  {
   "cell_type": "code",
   "execution_count": 36,
   "id": "be8f1578",
   "metadata": {},
   "outputs": [],
   "source": [
    "cphoto1=numpy.copy(cphoto1)\n",
    "cphoto2=numpy.copy(cphoto2)"
   ]
  },
  {
   "cell_type": "code",
   "execution_count": 37,
   "id": "a3ae5dc9",
   "metadata": {},
   "outputs": [],
   "source": [
    "photo1[100:450, 200:400] = cphoto2\n",
    "photo2[100:450, 200:400] = cphoto1"
   ]
  },
  {
   "cell_type": "code",
   "execution_count": 38,
   "id": "5c0332e0",
   "metadata": {},
   "outputs": [],
   "source": [
    "cv2.imshow('hi', cphoto1)\n",
    "cv2.imshow('hello', cphoto2)\n",
    "cv2.waitKey()\n",
    "cv2.destroyAllWindows()"
   ]
  },
  {
   "cell_type": "code",
   "execution_count": 39,
   "id": "638ec401",
   "metadata": {},
   "outputs": [
    {
     "data": {
      "text/plain": [
       "(350, 200, 3)"
      ]
     },
     "execution_count": 39,
     "metadata": {},
     "output_type": "execute_result"
    }
   ],
   "source": [
    "cphoto1.shape"
   ]
  },
  {
   "cell_type": "code",
   "execution_count": 40,
   "id": "11bd3321",
   "metadata": {},
   "outputs": [
    {
     "data": {
      "text/plain": [
       "(350, 200, 3)"
      ]
     },
     "execution_count": 40,
     "metadata": {},
     "output_type": "execute_result"
    }
   ],
   "source": [
    "cphoto2.shape"
   ]
  },
  {
   "cell_type": "code",
   "execution_count": 41,
   "id": "d4f243a4",
   "metadata": {},
   "outputs": [],
   "source": [
    "cv2.imshow('hi' , photo1)\n",
    "cv2.imshow('hello', photo2)\n",
    "cv2.waitKey()\n",
    "cv2.destroyAllWindows()"
   ]
  },
  {
   "cell_type": "code",
   "execution_count": null,
   "id": "35e52957",
   "metadata": {},
   "outputs": [],
   "source": []
  }
 ],
 "metadata": {
  "kernelspec": {
   "display_name": "Python 3",
   "language": "python",
   "name": "python3"
  },
  "language_info": {
   "codemirror_mode": {
    "name": "ipython",
    "version": 3
   },
   "file_extension": ".py",
   "mimetype": "text/x-python",
   "name": "python",
   "nbconvert_exporter": "python",
   "pygments_lexer": "ipython3",
   "version": "3.8.3"
  }
 },
 "nbformat": 4,
 "nbformat_minor": 5
}
