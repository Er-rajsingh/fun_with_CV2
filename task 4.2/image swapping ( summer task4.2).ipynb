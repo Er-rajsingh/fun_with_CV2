{
 "cells": [
  {
   "cell_type": "code",
   "execution_count": 88,
   "id": "9c21740a",
   "metadata": {},
   "outputs": [],
   "source": [
    "import cv2\n",
    "import numpy"
   ]
  },
  {
   "cell_type": "code",
   "execution_count": 89,
   "id": "974255b0",
   "metadata": {},
   "outputs": [],
   "source": [
    "photo1= cv2.imread(\"emoji1.png\")"
   ]
  },
  {
   "cell_type": "code",
   "execution_count": 90,
   "id": "e83ccf71",
   "metadata": {},
   "outputs": [
    {
     "data": {
      "text/plain": [
       "(625, 625, 3)"
      ]
     },
     "execution_count": 90,
     "metadata": {},
     "output_type": "execute_result"
    }
   ],
   "source": [
    "photo1.shape"
   ]
  },
  {
   "cell_type": "code",
   "execution_count": 91,
   "id": "b04ea8b7",
   "metadata": {},
   "outputs": [],
   "source": [
    "photo2= cv2.imread(\"emoji2.png\")"
   ]
  },
  {
   "cell_type": "code",
   "execution_count": 92,
   "id": "3676099c",
   "metadata": {},
   "outputs": [
    {
     "data": {
      "text/plain": [
       "(640, 640, 3)"
      ]
     },
     "execution_count": 92,
     "metadata": {},
     "output_type": "execute_result"
    }
   ],
   "source": [
    "photo2.shape"
   ]
  },
  {
   "cell_type": "code",
   "execution_count": 93,
   "id": "a89349dd",
   "metadata": {},
   "outputs": [],
   "source": [
    "photo1= cv2.resize(photo1 , (640,640))\n",
    "photo2= cv2.resize(photo2 , (640,640))"
   ]
  },
  {
   "cell_type": "code",
   "execution_count": 94,
   "id": "f1d8aa55",
   "metadata": {},
   "outputs": [],
   "source": [
    "cv2.imshow('hi' , photo1)\n",
    "cv2.imshow('hello' , photo2)\n",
    "cv2.waitKey()\n",
    "cv2.destroyAllWindows()"
   ]
  },
  {
   "cell_type": "code",
   "execution_count": 95,
   "id": "cf590fb5",
   "metadata": {},
   "outputs": [
    {
     "data": {
      "text/plain": [
       "(640, 640, 3)"
      ]
     },
     "execution_count": 95,
     "metadata": {},
     "output_type": "execute_result"
    }
   ],
   "source": [
    "photo2.shape"
   ]
  },
  {
   "cell_type": "code",
   "execution_count": 96,
   "id": "82fae4cd",
   "metadata": {},
   "outputs": [
    {
     "data": {
      "text/plain": [
       "(640, 640, 3)"
      ]
     },
     "execution_count": 96,
     "metadata": {},
     "output_type": "execute_result"
    }
   ],
   "source": [
    "photo1.shape"
   ]
  },
  {
   "cell_type": "code",
   "execution_count": 97,
   "id": "1c3fda3e",
   "metadata": {},
   "outputs": [],
   "source": [
    "cphoto1 = photo1[: , 320:]"
   ]
  },
  {
   "cell_type": "code",
   "execution_count": 98,
   "id": "83d4988f",
   "metadata": {},
   "outputs": [],
   "source": [
    "cv2.imshow('hi' , cphoto1)\n",
    "cv2.waitKey()\n",
    "cv2.destroyAllWindows()"
   ]
  },
  {
   "cell_type": "code",
   "execution_count": 99,
   "id": "be8f1578",
   "metadata": {},
   "outputs": [],
   "source": [
    "cphoto1=numpy.copy(cphoto1)\n",
    "cphoto2=numpy.copy(cphoto2)"
   ]
  },
  {
   "cell_type": "code",
   "execution_count": 100,
   "id": "a3ae5dc9",
   "metadata": {},
   "outputs": [],
   "source": [
    "photo1[:, 320:] = cphoto2\n"
   ]
  },
  {
   "cell_type": "code",
   "execution_count": 101,
   "id": "7a2acabc",
   "metadata": {},
   "outputs": [],
   "source": [
    "photo2[ : ,320: ] = cphoto1"
   ]
  },
  {
   "cell_type": "code",
   "execution_count": 102,
   "id": "638ec401",
   "metadata": {},
   "outputs": [
    {
     "data": {
      "text/plain": [
       "(640, 320, 3)"
      ]
     },
     "execution_count": 102,
     "metadata": {},
     "output_type": "execute_result"
    }
   ],
   "source": [
    "cphoto1.shape"
   ]
  },
  {
   "cell_type": "code",
   "execution_count": 103,
   "id": "11bd3321",
   "metadata": {},
   "outputs": [
    {
     "data": {
      "text/plain": [
       "(640, 320, 3)"
      ]
     },
     "execution_count": 103,
     "metadata": {},
     "output_type": "execute_result"
    }
   ],
   "source": [
    "cphoto2.shape"
   ]
  },
  {
   "cell_type": "code",
   "execution_count": 104,
   "id": "d4f243a4",
   "metadata": {},
   "outputs": [],
   "source": [
    "cv2.imshow('hi' , photo1)\n",
    "#cv2.imshow('hello', photo2)\n",
    "cv2.waitKey()\n",
    "cv2.destroyAllWindows()"
   ]
  },
  {
   "cell_type": "code",
   "execution_count": null,
   "id": "672af0fb",
   "metadata": {},
   "outputs": [],
   "source": []
  }
 ],
 "metadata": {
  "kernelspec": {
   "display_name": "Python 3",
   "language": "python",
   "name": "python3"
  },
  "language_info": {
   "codemirror_mode": {
    "name": "ipython",
    "version": 3
   },
   "file_extension": ".py",
   "mimetype": "text/x-python",
   "name": "python",
   "nbconvert_exporter": "python",
   "pygments_lexer": "ipython3",
   "version": "3.8.3"
  }
 },
 "nbformat": 4,
 "nbformat_minor": 5
}
